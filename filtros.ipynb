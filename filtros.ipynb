{
 "cells": [
  {
   "cell_type": "code",
   "execution_count": 17,
   "metadata": {},
   "outputs": [
    {
     "name": "stdout",
     "output_type": "stream",
     "text": [
      "  indice_tiempo  ventas_precios_corrientes  ventas_precios_constantes  \\\n",
      "0    2017-01-01                    27858.9                    27477.3   \n",
      "1    2017-02-01                    25994.2                    25223.4   \n",
      "2    2017-03-01                    27780.0                    26334.3   \n",
      "3    2017-04-01                    29134.3                    27045.9   \n",
      "4    2017-05-01                    27969.0                    25631.9   \n",
      "\n",
      "   ventas_totales_canal_venta  salon_ventas  canales_on_line  \\\n",
      "0                2.785887e+07  2.759173e+07       267141.956   \n",
      "1                2.599420e+07  2.574918e+07       245020.769   \n",
      "2                2.778001e+07  2.747223e+07       307777.804   \n",
      "3                2.913427e+07  2.882748e+07       306792.733   \n",
      "4                2.796900e+07  2.756931e+07       399693.262   \n",
      "\n",
      "   ventas_totales_medio_pago      efectivo  tarjetas_debito  tarjetas_credito  \\\n",
      "0               2.785887e+07  1.023010e+07     6.864575e+06      9.047205e+06   \n",
      "1               2.599420e+07  9.719067e+06     6.438494e+06      8.309150e+06   \n",
      "2               2.778001e+07  1.024444e+07     6.908523e+06      8.845010e+06   \n",
      "3               2.913427e+07  1.031263e+07     7.454252e+06      9.458167e+06   \n",
      "4               2.796900e+07  1.014761e+07     6.735747e+06      9.220930e+06   \n",
      "\n",
      "   ...       almacen     panaderia       lacteos        carnes  \\\n",
      "0  ...  6.705475e+06  9.459063e+05  2.880656e+06  2.606193e+06   \n",
      "1  ...  6.576625e+06  9.256186e+05  2.855640e+06  2.600084e+06   \n",
      "2  ...  7.437264e+06  1.016148e+06  3.188259e+06  2.824977e+06   \n",
      "3  ...  8.211244e+06  1.132396e+06  3.257140e+06  3.006159e+06   \n",
      "4  ...  7.651058e+06  1.033082e+06  3.232636e+06  2.799142e+06   \n",
      "\n",
      "   verduleria_fruteria  alimentos_preparados_rotiseria  \\\n",
      "0         1.050314e+06                    340777.38815   \n",
      "1         1.026167e+06                    328288.69508   \n",
      "2         1.075526e+06                    353335.15476   \n",
      "3         1.037213e+06                    359694.45374   \n",
      "4         9.826512e+05                    336568.00849   \n",
      "\n",
      "   articulos_limpieza_perfumeria  indumentaria_calzado_textiles_hogar  \\\n",
      "0                   4.397544e+06                         772371.84765   \n",
      "1                   4.053284e+06                         672290.51653   \n",
      "2                   4.354198e+06                         667696.66531   \n",
      "3                   4.355707e+06                         838948.24575   \n",
      "4                   4.206102e+06                         915895.14981   \n",
      "\n",
      "   electronicos_articulos_hogar         otros  \n",
      "0                  1.838507e+06  2.806660e+06  \n",
      "1                  1.257662e+06  2.354085e+06  \n",
      "2                  1.305675e+06  2.266189e+06  \n",
      "3                  1.535726e+06  2.146756e+06  \n",
      "4                  1.824462e+06  2.117971e+06  \n",
      "\n",
      "[5 rows x 24 columns]\n",
      "Index(['indice_tiempo', 'ventas_precios_corrientes',\n",
      "       'ventas_precios_constantes', 'ventas_totales_canal_venta',\n",
      "       'salon_ventas', 'canales_on_line', 'ventas_totales_medio_pago',\n",
      "       'efectivo', 'tarjetas_debito', 'tarjetas_credito', 'otros_medios',\n",
      "       'ventas_totales_grupo_articulos', 'subtotal_ventas_alimentos_bebidas',\n",
      "       'bebidas', 'almacen', 'panaderia', 'lacteos', 'carnes',\n",
      "       'verduleria_fruteria', 'alimentos_preparados_rotiseria',\n",
      "       'articulos_limpieza_perfumeria', 'indumentaria_calzado_textiles_hogar',\n",
      "       'electronicos_articulos_hogar', 'otros'],\n",
      "      dtype='object')\n",
      "0      True\n",
      "1      True\n",
      "2      True\n",
      "3      True\n",
      "4      True\n",
      "      ...  \n",
      "60     True\n",
      "61    False\n",
      "62    False\n",
      "63    False\n",
      "64    False\n",
      "Name: ventas_precios_constantes, Length: 65, dtype: bool\n",
      "(65, 24)\n"
     ]
    }
   ],
   "source": [
    "import pandas as pd\n",
    "import numpy as np\n",
    "df=pd.read_csv(\"Ventas_totales_supermercados.csv\")\n",
    "print(df.head())\n",
    "print(df.columns)\n",
    "print(df['ventas_precios_constantes']>25000)\n",
    "filtro2=df.iloc[[10,20,30,50,52],:]\n",
    "#filtro2.to_csv(\"Filtro2.csv\")\n",
    "filtro3=df.iloc[:,4:7]\n",
    "print(df.shape)"
   ]
  }
 ],
 "metadata": {
  "kernelspec": {
   "display_name": "Python 3.10.6 64-bit",
   "language": "python",
   "name": "python3"
  },
  "language_info": {
   "codemirror_mode": {
    "name": "ipython",
    "version": 3
   },
   "file_extension": ".py",
   "mimetype": "text/x-python",
   "name": "python",
   "nbconvert_exporter": "python",
   "pygments_lexer": "ipython3",
   "version": "3.10.6"
  },
  "orig_nbformat": 4,
  "vscode": {
   "interpreter": {
    "hash": "5004f994e3aa0378a3817c647b5a3a1a03f554c31e54d350404449431869ab39"
   }
  }
 },
 "nbformat": 4,
 "nbformat_minor": 2
}
