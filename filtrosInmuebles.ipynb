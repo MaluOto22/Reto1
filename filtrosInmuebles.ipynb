{
 "cells": [
  {
   "cell_type": "code",
   "execution_count": 7,
   "metadata": {},
   "outputs": [
    {
     "name": "stdout",
     "output_type": "stream",
     "text": [
      "Index(['Referencia', 'Fecha Alta', 'Tipo', 'Operación', 'Provincia',\n",
      "       'Superficie', 'Precio Venta', 'Fecha Venta', 'Vendedor'],\n",
      "      dtype='object')\n",
      "(3337, 9)\n"
     ]
    }
   ],
   "source": [
    "import pandas as pd\n",
    "df=pd.read_excel(\"Inmuebles.xlsx\")\n",
    "df\n",
    "print(df.columns)\n",
    "filtro1=df['Superficie']>200\n",
    "filtro2=df.iloc[[2,3,6,7],:]\n",
    "print(df.shape)"
   ]
  }
 ],
 "metadata": {
  "kernelspec": {
   "display_name": "Python 3.10.6 64-bit",
   "language": "python",
   "name": "python3"
  },
  "language_info": {
   "codemirror_mode": {
    "name": "ipython",
    "version": 3
   },
   "file_extension": ".py",
   "mimetype": "text/x-python",
   "name": "python",
   "nbconvert_exporter": "python",
   "pygments_lexer": "ipython3",
   "version": "3.10.6"
  },
  "orig_nbformat": 4,
  "vscode": {
   "interpreter": {
    "hash": "5004f994e3aa0378a3817c647b5a3a1a03f554c31e54d350404449431869ab39"
   }
  }
 },
 "nbformat": 4,
 "nbformat_minor": 2
}
